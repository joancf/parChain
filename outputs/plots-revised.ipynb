{
 "cells": [
  {
   "cell_type": "code",
   "execution_count": 1,
   "id": "301fb0d2",
   "metadata": {},
   "outputs": [],
   "source": [
    "import numpy as np\n",
    "import pandas as pd\n",
    "import seaborn as sns\n",
    "import re"
   ]
  },
  {
   "cell_type": "code",
   "execution_count": 45,
   "id": "5b460dad",
   "metadata": {},
   "outputs": [],
   "source": [
    "round_split = re.compile(\"\\n\\n\")#(\"(### Batch [0-9]+)\")\n",
    "space_split = re.compile(\"( |\\n)\")#(\"(### Batch [0-9]+)\")\n",
    "run_split = re.compile(\"\\+\\+\\+\\+\\+\\+\\+\\+\\+\\+\\+\\+\\+\\+\\+\\n\")\n",
    "\n",
    "round_find = re.compile(\"rounds = .+?\\n\")\n",
    "chain_num_find = re.compile(\"\\[Chain\\] # =.+?\\n\")\n",
    "cluster_num_find = re.compile(\"\\[CLINK\\] Comp Num =.+?\\n\")\n",
    "\n",
    "avg_used_cache_find = re.compile(\"avg-used-cache:.+?\\n\")\n",
    "max_used_cache_find = re.compile(\"max-used-cache:.+?\\n\")\n",
    "\n",
    "distance_computed_find = re.compile(\"distance-computed:.+?\\n\")\n",
    "points_in_range_find = re.compile(\"points-in-range:.+?\\n\")\n",
    "\n",
    "\n",
    "\n",
    "\n",
    "def get_perf_stats(file):\n",
    "    f1 = open(file)  \n",
    "    data1 = f1.read()\n",
    "    num_runs = 1\n",
    "#     if thread == 1:\n",
    "#         num_runs = 1\n",
    "    \n",
    "    runs = run_split.split(data1) #runs[1:1+num_runs] are the three runs\n",
    "    round_num = int(round_find.findall(runs[1])[0][9:])\n",
    "\n",
    "    rounds = round_split.split(runs[1])\n",
    "    stats = {}\n",
    "    stats[\"cluster_nums\"] = []\n",
    "    stats[\"chain_nums\"] = []\n",
    "    stats[\"avg_used_cache\"] = []\n",
    "    stats[\"max_used_cache\"] = []\n",
    "    stats[\"distance_computed\"] = []\n",
    "    stats[\"points_in_range\"] = []\n",
    "    stats[\"distance_computed_per\"] = []\n",
    "    stats[\"points_in_range_per\"] = []\n",
    "    \n",
    "    \n",
    "    # start from the second round\n",
    "    for i in range(2,len(rounds)):\n",
    "        chain_num = int(chain_num_find.findall(rounds[i])[0][12:])\n",
    "        cluster_num = int(cluster_num_find.findall(rounds[i])[0][19:])\n",
    "        if(cluster_num <= 5):\n",
    "            break\n",
    "        \n",
    "        avg_cache = float(avg_used_cache_find.findall(rounds[i])[0][16:])\n",
    "        max_cache = float(max_used_cache_find.findall(rounds[i])[0][16:])\n",
    "        distance_computed = float(distance_computed_find.findall(rounds[i])[0][18:])\n",
    "        points_in_range = float(points_in_range_find.findall(rounds[i])[0][16:])\n",
    "        \n",
    "        stats[\"cluster_nums\"].append(cluster_num)\n",
    "        stats[\"chain_nums\"].append(chain_num)\n",
    "        stats[\"avg_used_cache\"].append(avg_cache)\n",
    "        stats[\"max_used_cache\"].append(max_cache)\n",
    "        stats[\"distance_computed\"].append(distance_computed)\n",
    "        stats[\"points_in_range\"].append(points_in_range)\n",
    "        stats[\"distance_computed_per\"].append(distance_computed/(chain_num*cluster_num))\n",
    "        stats[\"points_in_range_per\"].append(points_in_range/(chain_num*cluster_num))\n",
    "    return stats"
   ]
  },
  {
   "cell_type": "code",
   "execution_count": 46,
   "id": "4fad7173",
   "metadata": {},
   "outputs": [],
   "source": [
    "file = \"/Users/sy/Desktop/MIT/HAC/parChain/outputs/rangestat_avg_2D_GaussianDisc_10K_1th.txt\""
   ]
  },
  {
   "cell_type": "code",
   "execution_count": 47,
   "id": "62ad1087",
   "metadata": {},
   "outputs": [],
   "source": [
    "stats = get_perf_stats(file)"
   ]
  },
  {
   "cell_type": "code",
   "execution_count": 48,
   "id": "7ee0bc5d",
   "metadata": {},
   "outputs": [
    {
     "data": {
      "text/plain": [
       "64.0"
      ]
     },
     "execution_count": 48,
     "metadata": {},
     "output_type": "execute_result"
    }
   ],
   "source": [
    "max(stats[\"max_used_cache\"])"
   ]
  },
  {
   "cell_type": "code",
   "execution_count": 49,
   "id": "5e10538d",
   "metadata": {},
   "outputs": [
    {
     "data": {
      "text/plain": [
       "6.6703"
      ]
     },
     "execution_count": 49,
     "metadata": {},
     "output_type": "execute_result"
    }
   ],
   "source": [
    "max(stats[\"avg_used_cache\"])"
   ]
  },
  {
   "cell_type": "code",
   "execution_count": 52,
   "id": "c0bf7636",
   "metadata": {},
   "outputs": [
    {
     "data": {
      "text/plain": [
       "[0.00031381563399342916,\n",
       " 0.00044169757759051243,\n",
       " 0.0005970819304152638,\n",
       " 0.0008008977438330237,\n",
       " 0.0010467808659607174,\n",
       " 0.0012936208966345159,\n",
       " 0.0016450682937751903,\n",
       " 0.0020060719691757257,\n",
       " 0.0025850716968663294,\n",
       " 0.0029472251187579656,\n",
       " 0.003577641842976598,\n",
       " 0.004083528951486698,\n",
       " 0.0044862998677920015,\n",
       " 0.005860506876708974,\n",
       " 0.00645682001614205,\n",
       " 0.007291099883404586,\n",
       " 0.0086991300869913,\n",
       " 0.009297520661157025,\n",
       " 0.010408990420044215,\n",
       " 0.01286108406361571,\n",
       " 0.015045248868778281,\n",
       " 0.01608187134502924,\n",
       " 0.018339674178128963,\n",
       " 0.022286821705426358,\n",
       " 0.02602508893465643,\n",
       " 0.029130966952264383,\n",
       " 0.03442340791738382,\n",
       " 0.04040816326530612,\n",
       " 0.045706371191135735,\n",
       " 0.05822981366459627,\n",
       " 0.07422402159244265,\n",
       " 0.07032967032967033,\n",
       " 0.08753315649867374,\n",
       " 0.10069444444444445,\n",
       " 0.125,\n",
       " 0.14736842105263157,\n",
       " 0.1568627450980392,\n",
       " 0.1836734693877551,\n",
       " 0.19480519480519481,\n",
       " 0.26785714285714285,\n",
       " 0.3333333333333333]"
      ]
     },
     "execution_count": 52,
     "metadata": {},
     "output_type": "execute_result"
    }
   ],
   "source": [
    "stats[\"points_in_range_per\"]  "
   ]
  },
  {
   "cell_type": "code",
   "execution_count": 17,
   "id": "2da718e8",
   "metadata": {},
   "outputs": [
    {
     "data": {
      "text/plain": [
       "16"
      ]
     },
     "execution_count": 17,
     "metadata": {},
     "output_type": "execute_result"
    }
   ],
   "source": [
    "len(\"avg-used-cache: \")"
   ]
  },
  {
   "cell_type": "code",
   "execution_count": null,
   "id": "3fe73101",
   "metadata": {},
   "outputs": [],
   "source": []
  }
 ],
 "metadata": {
  "kernelspec": {
   "display_name": "Python 3",
   "language": "python",
   "name": "python3"
  },
  "language_info": {
   "codemirror_mode": {
    "name": "ipython",
    "version": 3
   },
   "file_extension": ".py",
   "mimetype": "text/x-python",
   "name": "python",
   "nbconvert_exporter": "python",
   "pygments_lexer": "ipython3",
   "version": "3.6.10"
  }
 },
 "nbformat": 4,
 "nbformat_minor": 5
}
